{
 "cells": [
  {
   "cell_type": "markdown",
   "metadata": {},
   "source": [
    "# Model Selection and Experimentation\n",
    "November 01, 2017 \n",
    "\n",
    "> In this notebook we attempt to apply several classification algorithms to our data and experiment with model hyperparameters. We choose the best model in build_model.py.\n",
    "\n",
    "Chakshu Tandon [ <chakshutandon@gmail.com> ]"
   ]
  },
  {
   "cell_type": "code",
   "execution_count": 1,
   "metadata": {
    "collapsed": true
   },
   "outputs": [],
   "source": [
    "# Add parent directory to path\n",
    "import os\n",
    "import sys\n",
    "module_path = os.path.abspath(os.path.join('..'))\n",
    "if module_path not in sys.path:\n",
    "    sys.path.append(module_path)"
   ]
  },
  {
   "cell_type": "code",
   "execution_count": 2,
   "metadata": {
    "collapsed": true
   },
   "outputs": [],
   "source": [
    "import numpy as np\n",
    "import pandas as pd\n",
    "\n",
    "import sklearn\n",
    "\n",
    "from sklearn.preprocessing import LabelEncoder, StandardScaler\n",
    "from sklearn.decomposition import PCA\n",
    "\n",
    "from sklearn.model_selection import cross_val_score\n",
    "from sklearn.metrics import confusion_matrix\n",
    "from sklearn.model_selection import GridSearchCV\n",
    "\n",
    "from sklearn.naive_bayes import GaussianNB\n",
    "from sklearn.ensemble import RandomForestClassifier\n",
    "from sklearn.gaussian_process import GaussianProcessClassifier\n",
    "\n",
    "import configparser\n",
    "import utils"
   ]
  },
  {
   "cell_type": "code",
   "execution_count": 3,
   "metadata": {
    "collapsed": true
   },
   "outputs": [],
   "source": [
    "config = configparser.ConfigParser()\n",
    "config.read('../config.ini')\n",
    "config = config['DEFAULT']"
   ]
  },
  {
   "cell_type": "code",
   "execution_count": 4,
   "metadata": {
    "collapsed": true
   },
   "outputs": [],
   "source": [
    "def printMetrics(scores, confMatrix):\n",
    "    print(\"Accuracy (F1 Score): {:.2} (+/- {:.2})\\n\".format(scores.mean(), scores.std()))\n",
    "    print(\"Confusion Matrix:\")\n",
    "    print(confMatrix)"
   ]
  },
  {
   "cell_type": "code",
   "execution_count": 5,
   "metadata": {
    "collapsed": true
   },
   "outputs": [],
   "source": [
    "training_data = pd.read_csv('../Data/train_potus_by_county.csv')"
   ]
  },
  {
   "cell_type": "code",
   "execution_count": 6,
   "metadata": {
    "collapsed": true
   },
   "outputs": [],
   "source": [
    "# Extract features and labels\n",
    "features_, labels_ = utils.getFeatureLabelColumns(training_data, config['ClassLabelsColumn'])"
   ]
  },
  {
   "cell_type": "code",
   "execution_count": 7,
   "metadata": {
    "collapsed": true
   },
   "outputs": [],
   "source": [
    "# Scale features to zero mean and unit variance. Encode labels into binary values.\n",
    "features, scaler_ = utils.scaleUnitMean(features_)\n",
    "labels, encoder_ = utils.labelEncode(labels_)"
   ]
  },
  {
   "cell_type": "code",
   "execution_count": 8,
   "metadata": {
    "collapsed": true
   },
   "outputs": [],
   "source": [
    "# Compute and apply PCA transformation\n",
    "pca_ = utils.computePCA(features, n_components=int(config['n_PCAComponents']))\n",
    "pca_transformed_features = utils.applyPCA(features, pca_)"
   ]
  },
  {
   "cell_type": "code",
   "execution_count": 9,
   "metadata": {},
   "outputs": [
    {
     "name": "stdout",
     "output_type": "stream",
     "text": [
      "Accuracy (F1 Score): 0.88 (+/- 0.022)\n",
      "\n",
      "Confusion Matrix:\n",
      "[[110 154]\n",
      " [ 66 883]]\n"
     ]
    }
   ],
   "source": [
    "# Naive Bayes\n",
    "nbc = GaussianNB().fit(features, labels)\n",
    "nbc_scores = cross_val_score(nbc, features, labels, scoring=\"f1\", cv=int(config['n_KFolds']))\n",
    "\n",
    "nbc_predictedLabels = utils.getPredictedLabels(nbc, features)\n",
    "nbc_confMatrix = confusion_matrix(labels, nbc_predictedLabels)\n",
    "\n",
    "printMetrics(nbc_scores, nbc_confMatrix)"
   ]
  },
  {
   "cell_type": "code",
   "execution_count": 10,
   "metadata": {},
   "outputs": [
    {
     "name": "stdout",
     "output_type": "stream",
     "text": [
      "Accuracy (F1 Score): 0.89 (+/- 0.021)\n",
      "\n",
      "Confusion Matrix:\n",
      "[[264   0]\n",
      " [  0 949]]\n"
     ]
    }
   ],
   "source": [
    "# Random Forrest Classifier\n",
    "rfc = RandomForestClassifier(n_estimators=int(config['n_Estimators']), n_jobs=int(config['n_CPUCores'])).fit(features, labels)\n",
    "rfc_scores = cross_val_score(rfc, features, labels, scoring=\"f1\", cv=int(config['n_KFolds']))\n",
    "\n",
    "rfc_predictedLabels = utils.getPredictedLabels(rfc, features)\n",
    "rfc_confMatrix = confusion_matrix(labels, rfc_predictedLabels)\n",
    "\n",
    "printMetrics(rfc_scores, rfc_confMatrix)"
   ]
  },
  {
   "cell_type": "code",
   "execution_count": 13,
   "metadata": {
    "scrolled": true
   },
   "outputs": [
    {
     "name": "stdout",
     "output_type": "stream",
     "text": [
      "Accuracy (F1 Score): 0.89 (+/- 0.011)\n",
      "\n",
      "Confusion Matrix:\n",
      "[[175  89]\n",
      " [  2 947]]\n"
     ]
    }
   ],
   "source": [
    "# Gaussian Process Classifier with RBF Kernel\n",
    "gpcRBFF = GaussianProcessClassifier().fit(features, labels)\n",
    "gpcRBFF_scores = cross_val_score(gpcRBFF, features, labels, scoring=\"f1\", cv=int(config['n_KFolds']))\n",
    "\n",
    "gpcRBFF_predictedLabels = utils.getPredictedLabels(gpcRBFF, features)\n",
    "gpcRBFF_confMatrix = confusion_matrix(labels, gpcRBFF_predictedLabels)\n",
    "\n",
    "printMetrics(gpcRBFF_scores, gpcRBFF_confMatrix)"
   ]
  },
  {
   "cell_type": "markdown",
   "metadata": {},
   "source": [
    "## Optimization"
   ]
  },
  {
   "cell_type": "code",
   "execution_count": 14,
   "metadata": {
    "scrolled": true
   },
   "outputs": [
    {
     "data": {
      "text/plain": [
       "{'bootstrap': True,\n",
       " 'criterion': 'entropy',\n",
       " 'max_depth': None,\n",
       " 'max_features': 0.2,\n",
       " 'min_samples_leaf': 1,\n",
       " 'min_samples_split': 10}"
      ]
     },
     "execution_count": 14,
     "metadata": {},
     "output_type": "execute_result"
    }
   ],
   "source": [
    "# Optimize parameters of random forest classifier\n",
    "# This will take a long time [10+ minutes](exhaustive search of parameter space)\n",
    "parameters = {\"max_depth\": [None, 3],\n",
    "              \"max_features\": ['auto', 0.1, 0.2],\n",
    "              \"min_samples_split\": [2, 3, 10],\n",
    "              \"min_samples_leaf\": [1, 3, 10],\n",
    "              \"bootstrap\": [True, False],\n",
    "              \"criterion\": [\"gini\", \"entropy\"]}\n",
    "optimizer = GridSearchCV(rfc, parameters, return_train_score='false')\n",
    "optimizer.fit(features, labels)\n",
    "optimizer.best_params_"
   ]
  },
  {
   "cell_type": "code",
   "execution_count": 15,
   "metadata": {},
   "outputs": [
    {
     "name": "stdout",
     "output_type": "stream",
     "text": [
      "Accuracy (F1 Score): 0.9 (+/- 0.017)\n",
      "\n",
      "Confusion Matrix:\n",
      "[[207  57]\n",
      " [  1 948]]\n"
     ]
    }
   ],
   "source": [
    "# Random Forrest Classifier (Optimized)\n",
    "rfcOpt = optimizer.best_estimator_.fit(features, labels)\n",
    "rfcOpt_scores = cross_val_score(rfcOpt, features, labels, scoring=\"f1\", cv=int(config['n_KFolds']))\n",
    "\n",
    "rfcOpt_predictedLabels = utils.getPredictedLabels(rfcOpt, features)\n",
    "rfcOpt_confMatrix = confusion_matrix(labels, rfcOpt_predictedLabels)\n",
    "\n",
    "printMetrics(rfcOpt_scores, rfcOpt_confMatrix)"
   ]
  },
  {
   "cell_type": "markdown",
   "metadata": {},
   "source": [
    "__NOTE__: While the optimized model has a slightly higher cross validation score, the number of false positives and false negatives increase substantially. This may be an indication of the model overfitting."
   ]
  },
  {
   "cell_type": "markdown",
   "metadata": {},
   "source": [
    "<BR><BR>Licensed under the Apache License, Version 2.0 (the \"License\");\n",
    "you may not use this file except in compliance with the License.\n",
    "You may obtain a copy of the License at\n",
    "\n",
    "> http://www.apache.org/licenses/LICENSE-2.0\n",
    "\n",
    "Unless required by applicable law or agreed to in writing, software\n",
    "distributed under the License is distributed on an \"AS IS\" BASIS,\n",
    "WITHOUT WARRANTIES OR CONDITIONS OF ANY KIND, either express or implied.\n",
    "See the License for the specific language governing permissions and\n",
    "limitations under the License."
   ]
  }
 ],
 "metadata": {
  "kernelspec": {
   "display_name": "Python 3",
   "language": "python",
   "name": "python3"
  },
  "language_info": {
   "codemirror_mode": {
    "name": "ipython",
    "version": 3
   },
   "file_extension": ".py",
   "mimetype": "text/x-python",
   "name": "python",
   "nbconvert_exporter": "python",
   "pygments_lexer": "ipython3",
   "version": "3.6.3"
  }
 },
 "nbformat": 4,
 "nbformat_minor": 2
}
